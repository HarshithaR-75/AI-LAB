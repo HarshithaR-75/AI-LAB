{
  "nbformat": 4,
  "nbformat_minor": 0,
  "metadata": {
    "colab": {
      "provenance": [],
      "include_colab_link": true
    },
    "kernelspec": {
      "name": "python3",
      "display_name": "Python 3"
    },
    "language_info": {
      "name": "python"
    }
  },
  "cells": [
    {
      "cell_type": "markdown",
      "metadata": {
        "id": "view-in-github",
        "colab_type": "text"
      },
      "source": [
        "<a href=\"https://colab.research.google.com/github/HarshithaR-75/AI-LAB/blob/main/Unification.ipynb\" target=\"_parent\"><img src=\"https://colab.research.google.com/assets/colab-badge.svg\" alt=\"Open In Colab\"/></a>"
      ]
    },
    {
      "cell_type": "code",
      "execution_count": null,
      "metadata": {
        "id": "wbivoomqD73d"
      },
      "outputs": [],
      "source": [
        "import re\n",
        "\n",
        "def getAttributes(expression):\n",
        "    expression = expression.split(\"(\")[1:]\n",
        "    expression = \"(\".join(expression)\n",
        "    expression = expression[:-1]\n",
        "    expression = re.split(\"(?<!\\(.),(?!.\\))\", expression)\n",
        "    return expression"
      ]
    },
    {
      "cell_type": "code",
      "source": [
        "def getInitialPredicate(expression):\n",
        "    return expression.split(\"(\")[0]\n",
        "\n",
        "def isConstant(char):\n",
        "    return char.isupper() and len(char) == 1\n",
        "\n",
        "def isVariable(char):\n",
        "    return char.islower() and len(char) == 1\n",
        "\n",
        "def replaceAttributes(exp, old, new):\n",
        "    attributes = getAttributes(exp)\n",
        "    for index, val in enumerate(attributes):\n",
        "        if val == old:\n",
        "            attributes[index] = new\n",
        "    predicate = getInitialPredicate(exp)\n",
        "    return predicate + \"(\" + \",\".join(attributes) + \")\"\n",
        "\n",
        "def apply(exp, substitutions):\n",
        "    for substitution in substitutions:\n",
        "        new, old = substitution\n",
        "        exp = replaceAttributes(exp, old, new)\n",
        "    return exp"
      ],
      "metadata": {
        "id": "xsqBwtDihpMt"
      },
      "execution_count": null,
      "outputs": []
    },
    {
      "cell_type": "code",
      "source": [
        "def checkOccurs(var, exp):\n",
        "    if exp.find(var) == -1:\n",
        "        return False\n",
        "    return True\n",
        "\n",
        "\n",
        "def getFirstPart(expression):\n",
        "    attributes = getAttributes(expression)\n",
        "    return attributes[0]\n",
        "\n",
        "\n",
        "def getRemainingPart(expression):\n",
        "    predicate = getInitialPredicate(expression)\n",
        "    attributes = getAttributes(expression)\n",
        "    newExpression = predicate + \"(\" + \",\".join(attributes[1:]) + \")\"\n",
        "    return newExpression"
      ],
      "metadata": {
        "id": "q9qgxO3Khrii"
      },
      "execution_count": null,
      "outputs": []
    },
    {
      "cell_type": "code",
      "source": [
        "def unify(exp1, exp2):\n",
        "    if exp1 == exp2:\n",
        "        return []\n",
        "\n",
        "    if isConstant(exp1) and isConstant(exp2):\n",
        "        if exp1 != exp2:\n",
        "            return False\n",
        "\n",
        "    if isConstant(exp1):\n",
        "        return [(exp1, exp2)]\n",
        "\n",
        "    if isConstant(exp2):\n",
        "        return [(exp2, exp1)]\n",
        "\n",
        "    if isVariable(exp1):\n",
        "        if checkOccurs(exp1, exp2):\n",
        "            return False\n",
        "        else:\n",
        "            return [(exp2, exp1)]\n",
        "\n",
        "    if isVariable(exp2):\n",
        "        if checkOccurs(exp2, exp1):\n",
        "            return False\n",
        "        else:\n",
        "            return [(exp1, exp2)]\n",
        "\n",
        "    if getInitialPredicate(exp1) != getInitialPredicate(exp2):\n",
        "        print(\"Predicates do not match. Cannot be unified\")\n",
        "        return False\n",
        "\n",
        "    attributeCount1 = len(getAttributes(exp1))\n",
        "    attributeCount2 = len(getAttributes(exp2))\n",
        "    if attributeCount1 != attributeCount2:\n",
        "        return False\n",
        "\n",
        "    head1 = getFirstPart(exp1)\n",
        "    head2 = getFirstPart(exp2)\n",
        "    initialSubstitution = unify(head1, head2)\n",
        "    if not initialSubstitution:\n",
        "        return False\n",
        "    if attributeCount1 == 1:\n",
        "        return initialSubstitution\n",
        "\n",
        "    tail1 = getRemainingPart(exp1)\n",
        "    tail2 = getRemainingPart(exp2)\n",
        "\n",
        "    if initialSubstitution != []:\n",
        "        tail1 = apply(tail1, initialSubstitution)\n",
        "        tail2 = apply(tail2, initialSubstitution)\n",
        "\n",
        "    remainingSubstitution = unify(tail1, tail2)\n",
        "    if not remainingSubstitution:\n",
        "        return False\n",
        "\n",
        "    initialSubstitution.extend(remainingSubstitution)\n",
        "    return initialSubstitution"
      ],
      "metadata": {
        "id": "QjRTVz6mhtxw"
      },
      "execution_count": null,
      "outputs": []
    },
    {
      "cell_type": "code",
      "source": [
        "exp1 = \"knows(X)\"\n",
        "exp2 = \"knows(Richard)\"\n",
        "substitutions = unify(exp1, exp2)\n",
        "print(\"Harshitha R-1BM21CS075\")\n",
        "print(\"Substitutions:\")\n",
        "print(substitutions)"
      ],
      "metadata": {
        "colab": {
          "base_uri": "https://localhost:8080/"
        },
        "id": "vUNMlgVohx-Z",
        "outputId": "16c0f967-d5b4-425b-b7bd-294435265894"
      },
      "execution_count": null,
      "outputs": [
        {
          "output_type": "stream",
          "name": "stdout",
          "text": [
            "Harshitha R-1BM21CS075\n",
            "Substitutions:\n",
            "[('X', 'Richard')]\n"
          ]
        }
      ]
    },
    {
      "cell_type": "code",
      "source": [
        "exp1 = \"knows(A,x)\"\n",
        "exp2 = \"knows(y,mother(y))\"\n",
        "substitutions = unify(exp1, exp2)\n",
        "print(\"Substitutions:\")\n",
        "print(substitutions)"
      ],
      "metadata": {
        "colab": {
          "base_uri": "https://localhost:8080/"
        },
        "id": "ErV6wn6thz6-",
        "outputId": "203f8e42-798a-4fd0-eb92-06f85235e6f9"
      },
      "execution_count": null,
      "outputs": [
        {
          "output_type": "stream",
          "name": "stdout",
          "text": [
            "Substitutions:\n",
            "[('A', 'y'), ('mother(y)', 'x')]\n"
          ]
        }
      ]
    }
  ]
}