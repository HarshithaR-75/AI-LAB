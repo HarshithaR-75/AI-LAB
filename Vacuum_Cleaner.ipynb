{
  "nbformat": 4,
  "nbformat_minor": 0,
  "metadata": {
    "colab": {
      "provenance": [],
      "authorship_tag": "ABX9TyOvw971BNnDeCJyS1l0mcyK",
      "include_colab_link": true
    },
    "kernelspec": {
      "name": "python3",
      "display_name": "Python 3"
    },
    "language_info": {
      "name": "python"
    }
  },
  "cells": [
    {
      "cell_type": "markdown",
      "metadata": {
        "id": "view-in-github",
        "colab_type": "text"
      },
      "source": [
        "<a href=\"https://colab.research.google.com/github/HarshithaR-75/AI-LAB/blob/main/Vacuum_Cleaner.ipynb\" target=\"_parent\"><img src=\"https://colab.research.google.com/assets/colab-badge.svg\" alt=\"Open In Colab\"/></a>"
      ]
    },
    {
      "cell_type": "markdown",
      "source": [
        "2 rooms"
      ],
      "metadata": {
        "id": "_3Cr12R66DSz"
      }
    },
    {
      "cell_type": "code",
      "execution_count": 4,
      "metadata": {
        "colab": {
          "base_uri": "https://localhost:8080/"
        },
        "id": "PcOiZHEBynmJ",
        "outputId": "0e5e7975-94f8-4fa0-9ac3-92216561ff2c"
      },
      "outputs": [
        {
          "output_type": "stream",
          "name": "stdout",
          "text": [
            "Enter clean status for Room 1 (1 for dirty, 0 for clean): 1\n",
            "Enter clean status for Room 2 (1 for dirty, 0 for clean): 1\n",
            "Cleaning Room 1 (Room was dirty)\n",
            "Room 1 is now clean.\n",
            "Cleaning Room 2 (Room was dirty)\n",
            "Room 2 is now clean.\n",
            "Returning to Room 1 to check if it has become dirty again:\n",
            "Room 1 is already clean.\n",
            "Room 1 is clean after checking.\n"
          ]
        }
      ],
      "source": [
        "def clean_room(room_name, is_dirty):\n",
        "    if is_dirty:\n",
        "        print(f\"Cleaning {room_name} (Room was dirty)\")\n",
        "        print(f\"{room_name} is now clean.\")\n",
        "        return 0  # Updated status after cleaning\n",
        "    else:\n",
        "        print(f\"{room_name} is already clean.\")\n",
        "        return 0  # Status remains clean\n",
        "\n",
        "def main():\n",
        "    rooms = [\"Room 1\", \"Room 2\"]\n",
        "    room_statuses = []\n",
        "\n",
        "    for room in rooms:\n",
        "        status = int(input(f\"Enter clean status for {room} (1 for dirty, 0 for clean): \"))\n",
        "        room_statuses.append((room, status))\n",
        "\n",
        "    for i, (room, status) in enumerate(room_statuses):\n",
        "        room_statuses[i] = (room, clean_room(room, status))  # Update status after cleaning\n",
        "\n",
        "    print(f\"Returning to {rooms[0]} to check if it has become dirty again:\")\n",
        "    room_statuses[0] = (rooms[0], clean_room(rooms[0], room_statuses[0][1]))  # Passing the updated status of Room 1 to check again\n",
        "\n",
        "    print(f\"{rooms[0]} is {'dirty' if room_statuses[0][1] else 'clean'} after checking.\")\n",
        "\n",
        "if __name__ == \"__main__\":\n",
        "    main()\n"
      ]
    },
    {
      "cell_type": "markdown",
      "source": [
        "4 rooms"
      ],
      "metadata": {
        "id": "-6hQvKe_6Ftu"
      }
    },
    {
      "cell_type": "code",
      "source": [
        "def clean_room(floor, room_row, room_col):\n",
        "    if floor[room_row][room_col] == 1:\n",
        "        print(f\"Cleaning Room at ({room_row + 1}, {room_col + 1}) (Room was dirty)\")\n",
        "        floor[room_row][room_col] = 0\n",
        "        print(\"Room is now clean.\")\n",
        "    else:\n",
        "        print(f\"Room at ({room_row + 1}, {room_col + 1}) is already clean.\")\n",
        "\n",
        "def main():\n",
        "    rows = 2\n",
        "    cols = 2\n",
        "    floor = [[0, 0], [0, 0]]  # Initialize a 2x2 floor with clean rooms\n",
        "\n",
        "    for i in range(rows):\n",
        "        for j in range(cols):\n",
        "            status = int(input(f\"Enter clean status for Room at ({i + 1}, {j + 1}) (1 for dirty, 0 for clean): \"))\n",
        "            floor[i][j] = status\n",
        "\n",
        "    for i in range(rows):\n",
        "        for j in range(cols):\n",
        "            clean_room(floor, i, j)\n",
        "\n",
        "    print(\"Returning to Room at (1, 1) to check if it has become dirty again:\")\n",
        "    clean_room(floor, 0, 0)  # Checking Room at (1, 1) after cleaning all rooms\n",
        "\n",
        "if __name__ == \"__main__\":\n",
        "    main()\n"
      ],
      "metadata": {
        "colab": {
          "base_uri": "https://localhost:8080/"
        },
        "id": "hsPeLIQA5ZLN",
        "outputId": "bde57639-769e-4220-eef1-719d854de2ea"
      },
      "execution_count": 5,
      "outputs": [
        {
          "output_type": "stream",
          "name": "stdout",
          "text": [
            "Enter clean status for Room at (1, 1) (1 for dirty, 0 for clean): 1\n",
            "Enter clean status for Room at (1, 2) (1 for dirty, 0 for clean): 0\n",
            "Enter clean status for Room at (2, 1) (1 for dirty, 0 for clean): 0\n",
            "Enter clean status for Room at (2, 2) (1 for dirty, 0 for clean): 1\n",
            "Cleaning Room at (1, 1) (Room was dirty)\n",
            "Room is now clean.\n",
            "Room at (1, 2) is already clean.\n",
            "Room at (2, 1) is already clean.\n",
            "Cleaning Room at (2, 2) (Room was dirty)\n",
            "Room is now clean.\n",
            "Returning to Room at (1, 1) to check if it has become dirty again:\n",
            "Room at (1, 1) is already clean.\n"
          ]
        }
      ]
    }
  ]
}