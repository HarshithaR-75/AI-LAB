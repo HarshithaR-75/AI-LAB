{
  "nbformat": 4,
  "nbformat_minor": 0,
  "metadata": {
    "colab": {
      "provenance": [],
      "authorship_tag": "ABX9TyPWxpwsbAF2coR2b+mDTJLg",
      "include_colab_link": true
    },
    "kernelspec": {
      "name": "python3",
      "display_name": "Python 3"
    },
    "language_info": {
      "name": "python"
    }
  },
  "cells": [
    {
      "cell_type": "markdown",
      "metadata": {
        "id": "view-in-github",
        "colab_type": "text"
      },
      "source": [
        "<a href=\"https://colab.research.google.com/github/HarshithaR-75/AI-LAB/blob/main/8puzzle_bfs.ipynb\" target=\"_parent\"><img src=\"https://colab.research.google.com/assets/colab-badge.svg\" alt=\"Open In Colab\"/></a>"
      ]
    },
    {
      "cell_type": "code",
      "execution_count": null,
      "metadata": {
        "id": "IgIEV1ZKrLSj"
      },
      "outputs": [],
      "source": [
        "import numpy as np\n",
        "import pandas as pd\n",
        "import os\n",
        "\n",
        "def bfs(src,target):\n",
        "    queue = []\n",
        "    queue.append(src)\n",
        "\n",
        "    exp = []\n",
        "\n",
        "    while len(queue) > 0:\n",
        "        source = queue.pop(0)\n",
        "        exp.append(source)\n",
        "\n",
        "        print(source[0],\"|\",source[1],\"|\",source[2])\n",
        "        print(source[3],\"|\",source[4],\"|\",source[5])\n",
        "        print(source[6],\"|\",source[7],\"|\",source[8])\n",
        "        print()\n",
        "\n",
        "        if source==target:\n",
        "            print(\"success\")\n",
        "            return\n",
        "\n",
        "        poss_moves_to_do = []\n",
        "        poss_moves_to_do = possible_moves(source,exp)\n",
        "\n",
        "        for move in poss_moves_to_do:\n",
        "\n",
        "            if move not in exp and move not in queue:\n",
        "                queue.append(move)"
      ]
    },
    {
      "cell_type": "code",
      "source": [
        "def possible_moves(state,visited_states):\n",
        "    #index of empty spot\n",
        "    b = state.index(0)\n",
        "\n",
        "    #directions array\n",
        "    d = []\n",
        "    #Add all the possible directions\n",
        "\n",
        "    if b not in [0,1,2]:\n",
        "        d.append('u')\n",
        "    if b not in [6,7,8]:\n",
        "        d.append('d')\n",
        "    if b not in [0,3,6]:\n",
        "        d.append('l')\n",
        "    if b not in [2,5,8]:\n",
        "        d.append('r')\n",
        "\n",
        "\n",
        "    # If direction is possible then add state to move\n",
        "    pos_moves_it_can = []\n",
        "\n",
        "    # for all possible directions find the state if that move is played\n",
        "    ### Jump to gen function to generate all possible moves in the given directions\n",
        "\n",
        "    for i in d:\n",
        "        pos_moves_it_can.append(gen(state,i,b))\n",
        "\n",
        "    return [move_it_can for move_it_can in pos_moves_it_can if move_it_can not in visited_states]"
      ],
      "metadata": {
        "id": "zWQFjd3krZZV"
      },
      "execution_count": null,
      "outputs": []
    },
    {
      "cell_type": "code",
      "source": [
        "def gen(state, m, b):\n",
        "    temp = state.copy()\n",
        "\n",
        "    if m=='d':\n",
        "        temp[b+3],temp[b] = temp[b],temp[b+3]\n",
        "\n",
        "    if m=='u':\n",
        "        temp[b-3],temp[b] = temp[b],temp[b-3]\n",
        "\n",
        "    if m=='l':\n",
        "        temp[b-1],temp[b] = temp[b],temp[b-1]\n",
        "\n",
        "    if m=='r':\n",
        "        temp[b+1],temp[b] = temp[b],temp[b+1]\n",
        "\n",
        "\n",
        "    # return new state with tested move to later check if \"src == target\"\n",
        "    return temp"
      ],
      "metadata": {
        "id": "3SOKsOSgre1E"
      },
      "execution_count": null,
      "outputs": []
    },
    {
      "cell_type": "code",
      "source": [
        "src = [1,2,3,4,5,6,0,7,8]\n",
        "target = [1,2,3,4,5,6,7,8,0]\n",
        "bfs(src, target)"
      ],
      "metadata": {
        "colab": {
          "base_uri": "https://localhost:8080/"
        },
        "id": "oexhMLzerkmt",
        "outputId": "17d7dd34-790f-4546-cfb7-bb0bad41d9c9"
      },
      "execution_count": null,
      "outputs": [
        {
          "output_type": "stream",
          "name": "stdout",
          "text": [
            "1 | 2 | 3\n",
            "4 | 5 | 6\n",
            "0 | 7 | 8\n",
            "\n",
            "1 | 2 | 3\n",
            "0 | 5 | 6\n",
            "4 | 7 | 8\n",
            "\n",
            "1 | 2 | 3\n",
            "4 | 5 | 6\n",
            "7 | 0 | 8\n",
            "\n",
            "0 | 2 | 3\n",
            "1 | 5 | 6\n",
            "4 | 7 | 8\n",
            "\n",
            "1 | 2 | 3\n",
            "5 | 0 | 6\n",
            "4 | 7 | 8\n",
            "\n",
            "1 | 2 | 3\n",
            "4 | 0 | 6\n",
            "7 | 5 | 8\n",
            "\n",
            "1 | 2 | 3\n",
            "4 | 5 | 6\n",
            "7 | 8 | 0\n",
            "\n",
            "success\n"
          ]
        }
      ]
    }
  ]
}