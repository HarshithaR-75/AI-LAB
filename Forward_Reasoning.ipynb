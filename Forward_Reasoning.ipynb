{
  "cells": [
    {
      "cell_type": "markdown",
      "metadata": {
        "id": "view-in-github",
        "colab_type": "text"
      },
      "source": [
        "<a href=\"https://colab.research.google.com/github/HarshithaR-75/AI-LAB/blob/main/Forward_Reasoning.ipynb\" target=\"_parent\"><img src=\"https://colab.research.google.com/assets/colab-badge.svg\" alt=\"Open In Colab\"/></a>"
      ]
    },
    {
      "cell_type": "markdown",
      "metadata": {
        "papermill": {
          "duration": 0.007116,
          "end_time": "2020-12-14T07:33:24.615193",
          "exception": false,
          "start_time": "2020-12-14T07:33:24.608077",
          "status": "completed"
        },
        "tags": [],
        "id": "OCJMsTNQhuQz"
      },
      "source": [
        "# Create a knowledgebase consisting of first order logic statements and prove the given query using forward reasoning."
      ]
    },
    {
      "cell_type": "code",
      "execution_count": null,
      "metadata": {
        "_cell_guid": "b1076dfc-b9ad-4769-8c92-a6c4dae69d19",
        "_uuid": "8f2839f25d086af736a60e9eeb907d3b93b6e0e5",
        "execution": {
          "iopub.execute_input": "2020-12-14T07:33:24.635831Z",
          "iopub.status.busy": "2020-12-14T07:33:24.634725Z",
          "iopub.status.idle": "2020-12-14T07:33:24.638011Z",
          "shell.execute_reply": "2020-12-14T07:33:24.637166Z"
        },
        "papermill": {
          "duration": 0.016642,
          "end_time": "2020-12-14T07:33:24.638130",
          "exception": false,
          "start_time": "2020-12-14T07:33:24.621488",
          "status": "completed"
        },
        "tags": [],
        "id": "A2RqPugNhuQ2"
      },
      "outputs": [],
      "source": [
        "import re\n",
        "\n",
        "def isVariable(x):\n",
        "    return len(x) == 1 and x.islower() and x.isalpha()\n",
        "\n",
        "def getAttributes(string):\n",
        "    expr = '\\([^)]+\\)'\n",
        "    matches = re.findall(expr, string)\n",
        "    return matches\n",
        "\n",
        "def getPredicates(string):\n",
        "    expr = '([a-z~]+)\\([^&|]+\\)'\n",
        "    return re.findall(expr, string)"
      ]
    },
    {
      "cell_type": "code",
      "execution_count": null,
      "metadata": {
        "execution": {
          "iopub.execute_input": "2020-12-14T07:33:24.665525Z",
          "iopub.status.busy": "2020-12-14T07:33:24.660308Z",
          "iopub.status.idle": "2020-12-14T07:33:24.682822Z",
          "shell.execute_reply": "2020-12-14T07:33:24.681969Z"
        },
        "papermill": {
          "duration": 0.038101,
          "end_time": "2020-12-14T07:33:24.682951",
          "exception": false,
          "start_time": "2020-12-14T07:33:24.644850",
          "status": "completed"
        },
        "tags": [],
        "id": "-GJ7QqPkhuQ4"
      },
      "outputs": [],
      "source": [
        "class Fact:\n",
        "    def __init__(self, expression):\n",
        "        self.expression = expression\n",
        "        predicate, params = self.splitExpression(expression)\n",
        "        self.predicate = predicate\n",
        "        self.params = params\n",
        "        self.result = any(self.getConstants())\n",
        "\n",
        "    def splitExpression(self, expression):\n",
        "        predicate = getPredicates(expression)[0]\n",
        "        params = getAttributes(expression)[0].strip('()').split(',')\n",
        "        return [predicate, params]\n",
        "\n",
        "    def getResult(self):\n",
        "        return self.result\n",
        "\n",
        "    def getConstants(self):\n",
        "        return [None if isVariable(c) else c for c in self.params]\n",
        "\n",
        "    def getVariables(self):\n",
        "        return [v if isVariable(v) else None for v in self.params]\n",
        "\n",
        "    def substitute(self, constants):\n",
        "        c = constants.copy()\n",
        "        f = f\"{self.predicate}({','.join([constants.pop(0) if isVariable(p) else p for p in self.params])})\"\n",
        "        return Fact(f)\n",
        "\n",
        "class Implication:\n",
        "    def __init__(self, expression):\n",
        "        self.expression = expression\n",
        "        l = expression.split('=>')\n",
        "        self.lhs = [Fact(f) for f in l[0].split('&')]\n",
        "        self.rhs = Fact(l[1])\n",
        "\n",
        "    def evaluate(self, facts):\n",
        "        constants = {}\n",
        "        new_lhs = []\n",
        "        for fact in facts:\n",
        "            for val in self.lhs:\n",
        "                if val.predicate == fact.predicate:\n",
        "                    for i, v in enumerate(val.getVariables()):\n",
        "                        if v:\n",
        "                            constants[v] = fact.getConstants()[i]\n",
        "                    new_lhs.append(fact)\n",
        "        predicate, attributes = getPredicates(self.rhs.expression)[0], str(getAttributes(self.rhs.expression)[0])\n",
        "        for key in constants:\n",
        "            if constants[key]:\n",
        "                attributes = attributes.replace(key, constants[key])\n",
        "        expr = f'{predicate}{attributes}'\n",
        "        return Fact(expr) if len(new_lhs) and all([f.getResult() for f in new_lhs]) else None\n",
        "\n",
        "class KB:\n",
        "    def __init__(self):\n",
        "        self.facts = set()\n",
        "        self.implications = set()\n",
        "\n",
        "    def tell(self, e):\n",
        "        if '=>' in e:\n",
        "            self.implications.add(Implication(e))\n",
        "        else:\n",
        "            self.facts.add(Fact(e))\n",
        "        for i in self.implications:\n",
        "            res = i.evaluate(self.facts)\n",
        "            if res:\n",
        "                self.facts.add(res)\n",
        "\n",
        "    def query(self, e):\n",
        "        facts = set([f.expression for f in self.facts])\n",
        "        i = 1\n",
        "        print(f'Querying {e}:')\n",
        "        for f in facts:\n",
        "            if Fact(f).predicate == Fact(e).predicate:\n",
        "                print(f'\\t{i}. {f}')\n",
        "                i += 1\n",
        "\n",
        "    def display(self):\n",
        "        print(\"All facts: \")\n",
        "        for i, f in enumerate(set([f.expression for f in self.facts])):\n",
        "            print(f'\\t{i+1}. {f}')\n"
      ]
    },
    {
      "cell_type": "code",
      "execution_count": 10,
      "metadata": {
        "execution": {
          "iopub.execute_input": "2020-12-14T07:33:24.704590Z",
          "iopub.status.busy": "2020-12-14T07:33:24.703525Z",
          "iopub.status.idle": "2020-12-14T07:33:24.710559Z",
          "shell.execute_reply": "2020-12-14T07:33:24.709797Z"
        },
        "papermill": {
          "duration": 0.020881,
          "end_time": "2020-12-14T07:33:24.710690",
          "exception": false,
          "start_time": "2020-12-14T07:33:24.689809",
          "status": "completed"
        },
        "tags": [],
        "colab": {
          "base_uri": "https://localhost:8080/"
        },
        "id": "a4VSV3klhuQ4",
        "outputId": "15792a71-d049-4b23-8dc1-29da8fcd32f6"
      },
      "outputs": [
        {
          "output_type": "stream",
          "name": "stdout",
          "text": [
            "Querying criminal(x):\n",
            "\t1. criminal(West)\n",
            "All facts: \n",
            "\t1. criminal(West)\n",
            "\t2. hostile(Nono)\n",
            "\t3. weapon(M1)\n",
            "\t4. missile(M1)\n",
            "\t5. american(West)\n",
            "\t6. sells(West,M1,Nono)\n",
            "\t7. owns(Nono,M1)\n",
            "\t8. enemy(Nono,America)\n"
          ]
        }
      ],
      "source": [
        "\n",
        "kb = KB()\n",
        "kb.tell('missile(x)=>weapon(x)')\n",
        "kb.tell('missile(M1)')\n",
        "kb.tell('enemy(x,America)=>hostile(x)')\n",
        "kb.tell('american(West)')\n",
        "kb.tell('enemy(Nono,America)')\n",
        "kb.tell('owns(Nono,M1)')\n",
        "kb.tell('missile(x)&owns(Nono,x)=>sells(West,x,Nono)')\n",
        "kb.tell('american(x)&weapon(y)&sells(x,y,z)&hostile(z)=>criminal(x)')\n",
        "kb.query('criminal(x)')\n",
        "kb.display()"
      ]
    },
    {
      "cell_type": "code",
      "execution_count": null,
      "metadata": {
        "execution": {
          "iopub.execute_input": "2020-12-14T07:33:24.732511Z",
          "iopub.status.busy": "2020-12-14T07:33:24.731525Z",
          "iopub.status.idle": "2020-12-14T07:33:24.736452Z",
          "shell.execute_reply": "2020-12-14T07:33:24.735437Z"
        },
        "papermill": {
          "duration": 0.018172,
          "end_time": "2020-12-14T07:33:24.736608",
          "exception": false,
          "start_time": "2020-12-14T07:33:24.718436",
          "status": "completed"
        },
        "tags": [],
        "colab": {
          "base_uri": "https://localhost:8080/"
        },
        "id": "zQoF4ab5huQ5",
        "outputId": "607b65f8-a7a6-43a6-c583-dedb39d95791"
      },
      "outputs": [
        {
          "output_type": "stream",
          "name": "stdout",
          "text": [
            "Querying evil(x):\n",
            "\t1. evil(John)\n"
          ]
        }
      ],
      "source": [
        "kb_ = KB()\n",
        "kb_.tell('king(x)&greedy(x)=>evil(x)')\n",
        "kb_.tell('king(John)')\n",
        "kb_.tell('greedy(John)')\n",
        "kb_.tell('king(Richard)')\n",
        "kb_.query('evil(x)')"
      ]
    }
  ],
  "metadata": {
    "kernelspec": {
      "display_name": "Python 3",
      "language": "python",
      "name": "python3"
    },
    "language_info": {
      "codemirror_mode": {
        "name": "ipython",
        "version": 3
      },
      "file_extension": ".py",
      "mimetype": "text/x-python",
      "name": "python",
      "nbconvert_exporter": "python",
      "pygments_lexer": "ipython3",
      "version": "3.7.6"
    },
    "papermill": {
      "duration": 4.629131,
      "end_time": "2020-12-14T07:33:24.853457",
      "environment_variables": {},
      "exception": null,
      "input_path": "__notebook__.ipynb",
      "output_path": "__notebook__.ipynb",
      "parameters": {},
      "start_time": "2020-12-14T07:33:20.224326",
      "version": "2.1.0"
    },
    "colab": {
      "provenance": [],
      "include_colab_link": true
    }
  },
  "nbformat": 4,
  "nbformat_minor": 0
}