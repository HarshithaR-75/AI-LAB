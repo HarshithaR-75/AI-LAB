{
  "nbformat": 4,
  "nbformat_minor": 0,
  "metadata": {
    "colab": {
      "provenance": [],
      "include_colab_link": true
    },
    "kernelspec": {
      "name": "python3",
      "display_name": "Python 3"
    },
    "language_info": {
      "name": "python"
    }
  },
  "cells": [
    {
      "cell_type": "markdown",
      "metadata": {
        "id": "view-in-github",
        "colab_type": "text"
      },
      "source": [
        "<a href=\"https://colab.research.google.com/github/HarshithaR-75/AI-LAB/blob/main/kb_resolution.ipynb\" target=\"_parent\"><img src=\"https://colab.research.google.com/assets/colab-badge.svg\" alt=\"Open In Colab\"/></a>"
      ]
    },
    {
      "cell_type": "code",
      "execution_count": 25,
      "metadata": {
        "id": "7kZc2thgT7Lt"
      },
      "outputs": [],
      "source": [
        "import re\n",
        "\n",
        "def main(rules, goal):\n",
        "    print(\"Kshitj S-1BM21CS093\")\n",
        "    rules = rules.split(' ')\n",
        "    steps = resolve(rules, goal)\n",
        "    print('\\nStep\\t|Clause\\t|Derivation\\t')\n",
        "    print('-' * 30)\n",
        "    i = 1\n",
        "    for step in steps:\n",
        "        print(f' {i}.\\t| {step}\\t| {steps[step]}\\t')\n",
        "        i += 1"
      ]
    },
    {
      "cell_type": "code",
      "source": [
        "def negate(term):\n",
        "    return f'~{term}' if term[0] != '~' else term[1]\n",
        "\n",
        "def reverse(clause):\n",
        "    if len(clause) > 2:\n",
        "        t = split_terms(clause)\n",
        "        return f'{t[1]}v{t[0]}'\n",
        "    return ''"
      ],
      "metadata": {
        "id": "MPddoGKP8how"
      },
      "execution_count": 26,
      "outputs": []
    },
    {
      "cell_type": "code",
      "source": [
        "def split_terms(rule):\n",
        "    exp = '(~*[PQRS])'\n",
        "    terms = re.findall(exp, rule)\n",
        "    return terms\n",
        "\n",
        "split_terms('~PvR')"
      ],
      "metadata": {
        "colab": {
          "base_uri": "https://localhost:8080/"
        },
        "id": "AV6G7NqA8jc0",
        "outputId": "2efd064e-40c2-41fc-9416-22172f880c65"
      },
      "execution_count": 27,
      "outputs": [
        {
          "output_type": "execute_result",
          "data": {
            "text/plain": [
              "['~P', 'R']"
            ]
          },
          "metadata": {},
          "execution_count": 27
        }
      ]
    },
    {
      "cell_type": "code",
      "source": [
        "def contradiction(goal, clause):\n",
        "    contradictions = [ f'{goal}v{negate(goal)}', f'{negate(goal)}v{goal}']\n",
        "    return clause in contradictions or reverse(clause) in contradictions"
      ],
      "metadata": {
        "id": "-WAJgBcM8lY3"
      },
      "execution_count": 28,
      "outputs": []
    },
    {
      "cell_type": "code",
      "source": [
        "def resolve(rules, goal):\n",
        "    temp = rules.copy()\n",
        "    temp += [negate(goal)]\n",
        "    steps = dict()\n",
        "    for rule in temp:\n",
        "        steps[rule] = 'Given.'\n",
        "    steps[negate(goal)] = 'Negated conclusion.'\n",
        "    i = 0\n",
        "    while i < len(temp):\n",
        "        n = len(temp)\n",
        "        j = (i + 1) % n\n",
        "        clauses = []\n",
        "        while j != i:\n",
        "            terms1 = split_terms(temp[i])\n",
        "            terms2 = split_terms(temp[j])\n",
        "            for c in terms1:\n",
        "                if negate(c) in terms2:\n",
        "                    t1 = [t for t in terms1 if t != c]\n",
        "                    t2 = [t for t in terms2 if t != negate(c)]\n",
        "                    gen = t1 + t2\n",
        "                    if len(gen) == 2:\n",
        "                        if gen[0] != negate(gen[1]):\n",
        "                            clauses += [f'{gen[0]}v{gen[1]}']\n",
        "                        else:\n",
        "                            if contradiction(goal,f'{gen[0]}v{gen[1]}'):\n",
        "                                temp.append(f'{gen[0]}v{gen[1]}')\n",
        "                                steps[''] = f\"Resolved {temp[i]} and {temp[j]} to {temp[-1]}, which is in turn null. \\\n",
        "                                \\nA contradiction is found when {negate(goal)} is assumed as true. Hence, {goal} is true.\"\n",
        "                                return steps\n",
        "                    elif len(gen) == 1:\n",
        "                        clauses += [f'{gen[0]}']\n",
        "                    else:\n",
        "                        if contradiction(goal,f'{terms1[0]}v{terms2[0]}'):\n",
        "                            temp.append(f'{terms1[0]}v{terms2[0]}')\n",
        "                            steps[''] = f\"Resolved {temp[i]} and {temp[j]} to {temp[-1]}, which is in turn null. \\\n",
        "                            \\nA contradiction is found when {negate(goal)} is assumed as true. Hence, {goal} is true.\"\n",
        "                            return steps\n",
        "            for clause in clauses:\n",
        "                if clause not in temp and clause != reverse(clause) and reverse(clause) not in temp:\n",
        "                    temp.append(clause)\n",
        "                    steps[clause] = f'Resolved from {temp[i]} and {temp[j]}.'\n",
        "            j = (j + 1) % n\n",
        "        i += 1\n",
        "    return steps"
      ],
      "metadata": {
        "id": "-RisQVoX8ncV"
      },
      "execution_count": 29,
      "outputs": []
    },
    {
      "cell_type": "code",
      "source": [
        "rules = 'Rv~P Rv~Q ~RvP ~RvQ' #(P^Q)<=>R : (Rv~P)v(Rv~Q)^(~RvP)^(~RvQ)\n",
        "goal = 'R'\n",
        "main(rules, goal)"
      ],
      "metadata": {
        "colab": {
          "base_uri": "https://localhost:8080/"
        },
        "id": "Fb4Lxda68ucC",
        "outputId": "fb5d7632-5eae-44fb-fc44-8878a2c2d1fb"
      },
      "execution_count": 30,
      "outputs": [
        {
          "output_type": "stream",
          "name": "stdout",
          "text": [
            "Kshitj S-1BM21CS093\n",
            "\n",
            "Step\t|Clause\t|Derivation\t\n",
            "------------------------------\n",
            " 1.\t| Rv~P\t| Given.\t\n",
            " 2.\t| Rv~Q\t| Given.\t\n",
            " 3.\t| ~RvP\t| Given.\t\n",
            " 4.\t| ~RvQ\t| Given.\t\n",
            " 5.\t| ~R\t| Negated conclusion.\t\n",
            " 6.\t| \t| Resolved Rv~P and ~RvP to Rv~R, which is in turn null.                                 \n",
            "A contradiction is found when ~R is assumed as true. Hence, R is true.\t\n"
          ]
        }
      ]
    },
    {
      "cell_type": "code",
      "source": [
        "rules = 'PvQ ~PvR ~QvR' #P=vQ, P=>Q : ~PvQ, Q=>R, ~QvR\n",
        "goal = 'R'\n",
        "main(rules, goal)"
      ],
      "metadata": {
        "colab": {
          "base_uri": "https://localhost:8080/"
        },
        "id": "4FU7MJIx8wub",
        "outputId": "b20e9906-2595-400b-f411-75e218d0c8fd"
      },
      "execution_count": 31,
      "outputs": [
        {
          "output_type": "stream",
          "name": "stdout",
          "text": [
            "Kshitj S-1BM21CS093\n",
            "\n",
            "Step\t|Clause\t|Derivation\t\n",
            "------------------------------\n",
            " 1.\t| PvQ\t| Given.\t\n",
            " 2.\t| ~PvR\t| Given.\t\n",
            " 3.\t| ~QvR\t| Given.\t\n",
            " 4.\t| ~R\t| Negated conclusion.\t\n",
            " 5.\t| QvR\t| Resolved from PvQ and ~PvR.\t\n",
            " 6.\t| PvR\t| Resolved from PvQ and ~QvR.\t\n",
            " 7.\t| ~P\t| Resolved from ~PvR and ~R.\t\n",
            " 8.\t| ~Q\t| Resolved from ~QvR and ~R.\t\n",
            " 9.\t| Q\t| Resolved from ~R and QvR.\t\n",
            " 10.\t| P\t| Resolved from ~R and PvR.\t\n",
            " 11.\t| R\t| Resolved from QvR and ~Q.\t\n",
            " 12.\t| \t| Resolved R and ~R to Rv~R, which is in turn null.                             \n",
            "A contradiction is found when ~R is assumed as true. Hence, R is true.\t\n"
          ]
        }
      ]
    },
    {
      "cell_type": "code",
      "source": [
        "rules = 'PvQ PvR ~PvR RvS Rv~Q ~Sv~Q' # (P=>Q)=>Q, (P=>P)=>R, (R=>S)=>~(S=>Q)\n",
        "main(rules, 'R')"
      ],
      "metadata": {
        "colab": {
          "base_uri": "https://localhost:8080/"
        },
        "id": "eftM4gmU8niC",
        "outputId": "7428d680-8a14-438d-8992-161a74b54d64"
      },
      "execution_count": 32,
      "outputs": [
        {
          "output_type": "stream",
          "name": "stdout",
          "text": [
            "Kshitj S-1BM21CS093\n",
            "\n",
            "Step\t|Clause\t|Derivation\t\n",
            "------------------------------\n",
            " 1.\t| PvQ\t| Given.\t\n",
            " 2.\t| PvR\t| Given.\t\n",
            " 3.\t| ~PvR\t| Given.\t\n",
            " 4.\t| RvS\t| Given.\t\n",
            " 5.\t| Rv~Q\t| Given.\t\n",
            " 6.\t| ~Sv~Q\t| Given.\t\n",
            " 7.\t| ~R\t| Negated conclusion.\t\n",
            " 8.\t| QvR\t| Resolved from PvQ and ~PvR.\t\n",
            " 9.\t| Pv~S\t| Resolved from PvQ and ~Sv~Q.\t\n",
            " 10.\t| P\t| Resolved from PvR and ~R.\t\n",
            " 11.\t| ~P\t| Resolved from ~PvR and ~R.\t\n",
            " 12.\t| Rv~S\t| Resolved from ~PvR and Pv~S.\t\n",
            " 13.\t| R\t| Resolved from ~PvR and P.\t\n",
            " 14.\t| S\t| Resolved from RvS and ~R.\t\n",
            " 15.\t| ~Q\t| Resolved from Rv~Q and ~R.\t\n",
            " 16.\t| Q\t| Resolved from ~R and QvR.\t\n",
            " 17.\t| ~S\t| Resolved from ~R and Rv~S.\t\n",
            " 18.\t| \t| Resolved ~R and R to ~RvR, which is in turn null.                             \n",
            "A contradiction is found when ~R is assumed as true. Hence, R is true.\t\n"
          ]
        }
      ]
    }
  ]
}